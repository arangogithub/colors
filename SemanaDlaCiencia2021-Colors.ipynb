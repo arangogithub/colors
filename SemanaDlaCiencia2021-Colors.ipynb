{
 "cells": [
  {
   "cell_type": "markdown",
   "metadata": {},
   "source": [
    "# <center>Semana de la Ciencia </center>"
   ]
  },
  {
   "cell_type": "code",
   "execution_count": 1,
   "metadata": {},
   "outputs": [],
   "source": [
    "import numpy as np\n",
    "import matplotlib.pyplot as plt\n",
    "from matplotlib import cm\n",
    "import itertools as it\n",
    "import json\n",
    "#from tqdm import tqdm_notebook as tqdm\n",
    "import matplotlib.patches as patches\n",
    "import collections\n",
    "from IPython.display import Image"
   ]
  },
  {
   "cell_type": "code",
   "execution_count": 2,
   "metadata": {},
   "outputs": [],
   "source": [
    "from numpy.random import default_rng\n",
    "rg = default_rng(12345)"
   ]
  },
  {
   "cell_type": "markdown",
   "metadata": {},
   "source": [
    "## <center>Lo que vemos y el azar</center>"
   ]
  },
  {
   "cell_type": "markdown",
   "metadata": {},
   "source": [
    "[Wiki Color](https://en.wikipedia.org/wiki/Primary_color)\n",
    "\n",
    "[Wiki RGB model](https://en.wikipedia.org/wiki/RGB_color_model)\n",
    "\n",
    "[Cambrige Color perception](https://www.cambridgeincolour.com/tutorials/color-perception.htm)\n",
    "\n",
    "[SicienceDirect Human-Color vision](https://www.sciencedirect.com/topics/engineering/human-color-vision)"
   ]
  },
  {
   "cell_type": "markdown",
   "metadata": {},
   "source": [
    "## <center>Black and White</center>"
   ]
  },
  {
   "cell_type": "code",
   "execution_count": 3,
   "metadata": {},
   "outputs": [],
   "source": [
    "N = 50 \n",
    "matrix = rg.integers(2, size=N*N).reshape(N,N)"
   ]
  },
  {
   "cell_type": "code",
   "execution_count": 4,
   "metadata": {},
   "outputs": [
    {
     "data": {
      "text/plain": [
       "<matplotlib.colorbar.Colorbar at 0x7fde06abc3a0>"
      ]
     },
     "execution_count": 4,
     "metadata": {},
     "output_type": "execute_result"
    },
    {
     "data": {
      "image/png": "[encoded data removed]",
      "text/plain": [
       "<Figure size 720x720 with 2 Axes>"
      ]
     },
     "metadata": {
      "needs_background": "light"
     },
     "output_type": "display_data"
    }
   ],
   "source": [
    "fig = plt.figure(1, figsize=(10, 10))\n",
    "ax = fig.add_subplot(111)\n",
    "im = ax.imshow(matrix, cmap= 'binary',vmin=0, vmax=1)\n",
    "fig.colorbar(im)"
   ]
  },
  {
   "cell_type": "markdown",
   "metadata": {},
   "source": [
    "## <center>Colors</center>\n",
    "\n",
    "To experiment with different colormaps, take a look at \n",
    "[colormaps matplotlib](https://matplotlib.org/stable/tutorials/colors/colormaps.html#sphx-glr-tutorials-colors-colormaps-py)"
   ]
  },
  {
   "cell_type": "code",
   "execution_count": null,
   "metadata": {},
   "outputs": [],
   "source": [
    "N = 7000 \n",
    "matrix = rg.integers(124, size=N*N).reshape(N,N)"
   ]
  },
  {
   "cell_type": "code",
   "execution_count": null,
   "metadata": {},
   "outputs": [],
   "source": [
    "fig = plt.figure(1, figsize=(10, 10))\n",
    "ax = fig.add_subplot(111)\n",
    "im = ax.imshow(matrix, cmap= 'coolwarm',vmin=0, vmax=124)\n",
    "fig.colorbar(im)"
   ]
  },
  {
   "cell_type": "code",
   "execution_count": null,
   "metadata": {},
   "outputs": [],
   "source": []
  },
  {
   "cell_type": "code",
   "execution_count": 5,
   "metadata": {},
   "outputs": [],
   "source": [
    "import matplotlib.colors\n",
    "from matplotlib import cm\n",
    "from matplotlib.colors import ListedColormap, LinearSegmentedColormap"
   ]
  },
  {
   "cell_type": "code",
   "execution_count": 6,
   "metadata": {},
   "outputs": [],
   "source": [
    "def wavelength_to_rgb(wavelength, gamma=0.8):\n",
    "    ''' taken from http://www.noah.org/wiki/Wavelength_to_RGB_in_Python\n",
    "    This converts a given wavelength of light to an \n",
    "    approximate RGB color value. The wavelength must be given\n",
    "    in nanometers in the range from 380 nm through 750 nm\n",
    "    (789 THz through 400 THz).\n",
    "\n",
    "    Based on code by Dan Bruton\n",
    "    http://www.physics.sfasu.edu/astro/color/spectra.html\n",
    "    Additionally alpha value set to 0.5 outside range\n",
    "    '''\n",
    "    wavelength = float(wavelength)\n",
    "    if wavelength >= 380 and wavelength <= 750:\n",
    "        A = 1.\n",
    "    else:\n",
    "        A=0.5\n",
    "    if wavelength < 380:\n",
    "        wavelength = 380.\n",
    "    if wavelength >750:\n",
    "        wavelength = 750.\n",
    "    if wavelength >= 380 and wavelength <= 440:\n",
    "        attenuation = 0.3 + 0.7 * (wavelength - 380) / (440 - 380)\n",
    "        R = ((-(wavelength - 440) / (440 - 380)) * attenuation) ** gamma\n",
    "        G = 0.0\n",
    "        B = (1.0 * attenuation) ** gamma\n",
    "    elif wavelength >= 440 and wavelength <= 490:\n",
    "        R = 0.0\n",
    "        G = ((wavelength - 440) / (490 - 440)) ** gamma\n",
    "        B = 1.0\n",
    "    elif wavelength >= 490 and wavelength <= 510:\n",
    "        R = 0.0\n",
    "        G = 1.0\n",
    "        B = (-(wavelength - 510) / (510 - 490)) ** gamma\n",
    "    elif wavelength >= 510 and wavelength <= 580:\n",
    "        R = ((wavelength - 510) / (580 - 510)) ** gamma\n",
    "        G = 1.0\n",
    "        B = 0.0\n",
    "    elif wavelength >= 580 and wavelength <= 645:\n",
    "        R = 1.0\n",
    "        G = (-(wavelength - 645) / (645 - 580)) ** gamma\n",
    "        B = 0.0\n",
    "    elif wavelength >= 645 and wavelength <= 750:\n",
    "        attenuation = 0.3 + 0.7 * (750 - wavelength) / (750 - 645)\n",
    "        R = (1.0 * attenuation) ** gamma\n",
    "        G = 0.0\n",
    "        B = 0.0\n",
    "    else:\n",
    "        R = 0.0\n",
    "        G = 0.0\n",
    "        B = 0.0\n",
    "    return (R,G,B,A)"
   ]
  },
  {
   "cell_type": "code",
   "execution_count": 7,
   "metadata": {},
   "outputs": [],
   "source": [
    "clim=(350,780)\n",
    "norm = plt.Normalize(*clim)\n",
    "wl = np.arange(clim[0],clim[1]+1,2)\n",
    "colorlist = list(zip(norm(wl),[wavelength_to_rgb(w) for w in wl]))\n",
    "spectralmap = matplotlib.colors.LinearSegmentedColormap.from_list(\"spectrum\", colorlist)"
   ]
  },
  {
   "cell_type": "code",
   "execution_count": 24,
   "metadata": {},
   "outputs": [],
   "source": [
    "N = 50\n",
    "matrix = rg.integers(490, 790, size=N*N).reshape(N,N)"
   ]
  },
  {
   "cell_type": "code",
   "execution_count": 25,
   "metadata": {},
   "outputs": [
    {
     "data": {
      "text/plain": [
       "<matplotlib.colorbar.Colorbar at 0x7fde0442fee0>"
      ]
     },
     "execution_count": 25,
     "metadata": {},
     "output_type": "execute_result"
    },
    {
     "data": {
      "image/png": "[encoded data removed]",
      "text/plain": [
       "<Figure size 1080x1080 with 2 Axes>"
      ]
     },
     "metadata": {
      "needs_background": "light"
     },
     "output_type": "display_data"
    }
   ],
   "source": [
    "fig = plt.figure(1, figsize=(15, 15))\n",
    "ax = fig.add_subplot(111)\n",
    "psm = ax.pcolormesh(matrix, cmap=spectralmap, vmin=480, vmax=790)\n",
    "#im = ax.imshow(matrix, cmap= 'spectralmap',vmin=0, vmax=124)\n",
    "fig.colorbar(psm)"
   ]
  },
  {
   "cell_type": "code",
   "execution_count": 26,
   "metadata": {},
   "outputs": [
    {
     "data": {
      "text/plain": [
       "array([[1., 1., 1., 1.]])"
      ]
     },
     "execution_count": 26,
     "metadata": {},
     "output_type": "execute_result"
    }
   ],
   "source": [
    "matplotlib.colors.to_rgba_array('white')"
   ]
  },
  {
   "cell_type": "code",
   "execution_count": null,
   "metadata": {},
   "outputs": [],
   "source": [
    "vals = range(256)\n",
    "np.random.shuffle(vals)\n",
    "cmap = plt.cm.colors.ListedColormap(plt.cm.jet(vals))\n",
    "vals"
   ]
  },
  {
   "cell_type": "code",
   "execution_count": null,
   "metadata": {},
   "outputs": [],
   "source": [
    "colors = range(256)\n",
    "N = 7000\n",
    "data = np.random.choice(colors, N*N)\n",
    "matrix = np.array(data.reshape(N,N))\n",
    "im = ax.imshow(matrix, cmap =   'Spectral',vmin=0, vmax=256)"
   ]
  },
  {
   "cell_type": "code",
   "execution_count": null,
   "metadata": {},
   "outputs": [],
   "source": [
    " \n",
    "plt.imshow ( matrix, cmap =  'Spectral',vmin=0, vmax=256)\n",
    "plt.colorbar(im)\n",
    "plt.show()"
   ]
  },
  {
   "cell_type": "code",
   "execution_count": null,
   "metadata": {},
   "outputs": [],
   "source": [
    "colors = random.choice(['red','green','blue'])"
   ]
  },
  {
   "cell_type": "code",
   "execution_count": null,
   "metadata": {},
   "outputs": [],
   "source": [
    "Z = np.random.rand(6, 10)\n",
    "Z"
   ]
  },
  {
   "cell_type": "code",
   "execution_count": null,
   "metadata": {},
   "outputs": [],
   "source": [
    "def showConfig(N):\n",
    "    pieces = []\n",
    "    dx, dy = 1/N, 1/N\n",
    "    ax1=plt.subplot(111,aspect='equal')\n",
    "    for i in range(N):\n",
    "        for j in range(N): \n",
    "            c =   random.choice(['red','green','blue'])  \n",
    "            p = patches.Rectangle(\n",
    "                    (i/N,j/N), dx,dy, facecolor=c, fill=True,linewidth=0.5 )\n",
    "            pieces.append(p)   \n",
    "    \n",
    "    for p in pieces: ax1.add_patch(p)\n",
    "    plt.axis('off')\n",
    "    plt.show() \n",
    "     \n",
    "    \n",
    "      "
   ]
  },
  {
   "cell_type": "code",
   "execution_count": null,
   "metadata": {},
   "outputs": [],
   "source": [
    "showConfig(250)"
   ]
  },
  {
   "cell_type": "code",
   "execution_count": null,
   "metadata": {},
   "outputs": [],
   "source": [
    "Image(url= \"flip_cube.jpg\", width=300, height=300)"
   ]
  },
  {
   "cell_type": "code",
   "execution_count": null,
   "metadata": {},
   "outputs": [],
   "source": [
    "colors = {'g': 'green',\n",
    "          'b': 'blue',\n",
    "          'y': 'yellow',\n",
    "          'p': 'purple',\n",
    "          's': 'grey',\n",
    "          'o': 'orange',\n",
    "          'w': 'white',\n",
    "          'r': 'red'  \n",
    "        }"
   ]
  },
  {
   "cell_type": "code",
   "execution_count": null,
   "metadata": {},
   "outputs": [],
   "source": []
  },
  {
   "cell_type": "code",
   "execution_count": null,
   "metadata": {
    "format": "column"
   },
   "outputs": [],
   "source": [
    "diskColors = (\"g\", \"b\")\n",
    "sideColors = (\"y\", \"p\", \"s\", \"o\", \"w\", \"r\")"
   ]
  },
  {
   "cell_type": "code",
   "execution_count": null,
   "metadata": {},
   "outputs": [],
   "source": [
    "pieces =  it.chain.from_iterable(zip(diskColors,[x,x]) for x in sideColors)  "
   ]
  },
  {
   "cell_type": "code",
   "execution_count": null,
   "metadata": {
    "format": "column"
   },
   "outputs": [],
   "source": [
    "config = it.permutations(pieces)"
   ]
  },
  {
   "cell_type": "code",
   "execution_count": null,
   "metadata": {},
   "outputs": [],
   "source": [
    "startn = next(config) "
   ]
  },
  {
   "cell_type": "code",
   "execution_count": null,
   "metadata": {
    "format": "row"
   },
   "outputs": [],
   "source": [
    "start = (('b', 'p'),\n",
    " ('b', 'y'),\n",
    " ('b', 's'),\n",
    " ('b', 'r'),\n",
    " ('b', 'w'),\n",
    " ('b', 'o'),\n",
    " ('g', 'w'),\n",
    " ('g', 'y'),\n",
    " ('g', 'r'),\n",
    " ('g', 's'),\n",
    " ('g', 'p'),\n",
    " ('g', 'o'))"
   ]
  },
  {
   "cell_type": "code",
   "execution_count": null,
   "metadata": {},
   "outputs": [],
   "source": [
    "target = (('g', 'y'),\n",
    " ('g', 'p'),\n",
    " ('g', 'r'),\n",
    " ('g', 'w'),\n",
    " ('g', 's'),\n",
    " ('g', 'o'),\n",
    " ('b', 'y'),\n",
    " ('b', 'p'),\n",
    " ('b', 'r'),\n",
    " ('b', 'w'),\n",
    " ('b', 's'),\n",
    " ('b', 'o'))"
   ]
  },
  {
   "cell_type": "code",
   "execution_count": null,
   "metadata": {},
   "outputs": [],
   "source": [
    "def showConfig(cf):\n",
    "    \"graphics representation of the puzzle\"\n",
    "    tt = [a[0] for a in cf][0:6]  \n",
    "    mt = [a[1] for a in cf][0:6]\n",
    "    mb = [a[1] for a in cf][6:12]\n",
    "    bb = [a[0] for a in cf][6:12] \n",
    "    \n",
    "    ax1=plt.subplot(111,aspect='equal')\n",
    "    ls = tt + mt + mb + bb\n",
    "    dx, dy = 1/6, 1/4\n",
    "    pieces = []\n",
    "    for j in range(24):\n",
    "        x, cnt = (j%6)/6, j//6+1\n",
    "        color = colors[ls[j]]\n",
    "        p = patches.Rectangle(\n",
    "                    (x,1-cnt/4), dx,dy, edgecolor=\"white\", facecolor=color, fill=True,linewidth=0.5 )\n",
    "        pieces.append(p)\n",
    "    \n",
    "    for p in pieces: ax1.add_patch(p)\n",
    "    plt.axis('off')\n",
    "    plt.show()   "
   ]
  },
  {
   "cell_type": "code",
   "execution_count": null,
   "metadata": {
    "format": "row"
   },
   "outputs": [],
   "source": [
    "showConfig(startn)"
   ]
  },
  {
   "cell_type": "markdown",
   "metadata": {},
   "source": [
    "## Operations affecting a given configuration "
   ]
  },
  {
   "cell_type": "code",
   "execution_count": null,
   "metadata": {
    "format": "row"
   },
   "outputs": [],
   "source": [
    "def halfFlip(cf):\n",
    "    lst = list(cf)\n",
    "    lst[0],lst[1],lst[2],lst[6],lst[7],lst[8] = lst[8],lst[7],lst[6], lst[2], lst[1], lst[0]\n",
    "    return tuple(lst)"
   ]
  },
  {
   "cell_type": "code",
   "execution_count": null,
   "metadata": {},
   "outputs": [],
   "source": [
    "def totalRot(n, cf):\n",
    "    t, b = cf[0:6], cf[6:12]\n",
    "    t, b = collections.deque(t), collections.deque(b)\n",
    "    t.rotate(n)\n",
    "    b.rotate(n)\n",
    "    return tuple(t+b)"
   ]
  },
  {
   "cell_type": "code",
   "execution_count": null,
   "metadata": {
    "format": "column"
   },
   "outputs": [],
   "source": [
    "def topRot(n, cf):\n",
    "    t, b = cf[0:6], cf[6:12]\n",
    "    t, b = collections.deque(t), collections.deque(b)\n",
    "    t.rotate(n)\n",
    "    b.rotate(0)\n",
    "    return tuple(t+b)"
   ]
  },
  {
   "cell_type": "code",
   "execution_count": null,
   "metadata": {},
   "outputs": [],
   "source": [
    "def bottRot(n, cf):\n",
    "    t, b = cf[0:6], cf[6:12]\n",
    "    t, b = collections.deque(t), collections.deque(b)\n",
    "    t.rotate(0)\n",
    "    b.rotate(n)\n",
    "    return tuple(t+b)"
   ]
  },
  {
   "cell_type": "code",
   "execution_count": null,
   "metadata": {
    "format": "column"
   },
   "outputs": [],
   "source": [
    "def flip(cf):\n",
    "    cff = list(cf)\n",
    "    cff.reverse()\n",
    "    return tuple(cff)"
   ]
  },
  {
   "cell_type": "markdown",
   "metadata": {},
   "source": [
    "## The metric space"
   ]
  },
  {
   "cell_type": "markdown",
   "metadata": {},
   "source": [
    "If  *cf* and  *cg* are given configurations, then the geodesic distance,    defined as the minimum number of operations  necessary to go from *cf* to *cg*, is a metric in the configuration space. Spheres and balls of an integer radius *n* centered at a configuration point are expensive to calculate if *n>12*.  "
   ]
  },
  {
   "cell_type": "code",
   "execution_count": null,
   "metadata": {},
   "outputs": [],
   "source": [
    "def sphere1(cf):\n",
    "    \"sphere of radius 1 centered at cf\"\n",
    "    sph = []\n",
    "    tRp, tRm = topRot(1, cf), topRot(-1, cf)\n",
    "    #bRp, bRm = bottRot(1, cf), bottRot(-1, cf)\n",
    "    sph.append(tRp)\n",
    "    sph.append(tRm)\n",
    "    #sph.append(bRp)\n",
    "    #sph.append(bRm)\n",
    "    for n in range(3):\n",
    "        totalR= totalRot(n, cf)\n",
    "        sph.append(halfFlip(totalR))\n",
    "    return set(sph)   "
   ]
  },
  {
   "cell_type": "code",
   "execution_count": null,
   "metadata": {},
   "outputs": [],
   "source": [
    "def ssphere1(cf):\n",
    "    \"sphere of radius 1 centered at cf\"\n",
    "    sph = []\n",
    "    tRp, tRm = topRot(1, cf), topRot(-1, cf)\n",
    "    bRp, bRm = bottRot(1, cf), bottRot(-1, cf)\n",
    "    sph.append(tRp)\n",
    "    sph.append(tRm)\n",
    "    sph.append(bRp)\n",
    "    sph.append(bRm)\n",
    "    for n in range(6):\n",
    "        totalR= totalRot(n, cf)\n",
    "        sph.append(halfFlip(totalR))\n",
    "    return sph"
   ]
  },
  {
   "cell_type": "markdown",
   "metadata": {},
   "source": [
    "Now, a given configuration defines a  class of equivalence in a natural way by means of flipping a rotating the cylinder as a whole. "
   ]
  },
  {
   "cell_type": "code",
   "execution_count": null,
   "metadata": {},
   "outputs": [],
   "source": [
    "def equiv_class(cf):\n",
    "    \"flippings and  (whole) rotations of a given configuration of the  puzzel \"\n",
    "    ec = []\n",
    "    for n in range(6):\n",
    "        tR = totalRot(n,cf)\n",
    "        ec.append(tR)\n",
    "        tRR = list(tR)\n",
    "        tRR.reverse()\n",
    "        ec.append(tuple(tRR))\n",
    "    return set(ec)"
   ]
  },
  {
   "cell_type": "code",
   "execution_count": null,
   "metadata": {},
   "outputs": [],
   "source": [
    "class_target = equiv_class(target)"
   ]
  },
  {
   "cell_type": "code",
   "execution_count": null,
   "metadata": {},
   "outputs": [],
   "source": [
    "def closed_ball(cf, n):\n",
    "    \"closure of the  ball centered at cf having radius n\"\n",
    "    if n < 2: return  sphere1(cf) | {cf} \n",
    "    B = set(it.chain.from_iterable(sphere1(x) for x in closed_ball(cf, n-1)))\n",
    "    return B    "
   ]
  },
  {
   "cell_type": "code",
   "execution_count": null,
   "metadata": {},
   "outputs": [],
   "source": [
    "def sphere(cf, n):\n",
    "    \"sphere centered at cf having radius n\"\n",
    "    if n < 2: return  sphere1(cf) \n",
    "    S_ext = set(it.chain.from_iterable(sphere1(x) for x in sphere(cf, n-1)))\n",
    "    S_class = set(it.chain.from_iterable(equiv_class(x) for x in closed_ball(cf, n-1)))\n",
    "    return  S_ext - S_class"
   ]
  },
  {
   "cell_type": "markdown",
   "metadata": {},
   "source": [
    "## Checking sets"
   ]
  },
  {
   "cell_type": "code",
   "execution_count": null,
   "metadata": {},
   "outputs": [],
   "source": [
    "def check_identity(cf,cg):\n",
    "    \"It returns True if configuration cf belong to the equivalent class of cg \"\n",
    "    d = False\n",
    "    cg_class = equiv_class(cg)\n",
    "    if cf in cg_class: d = True\n",
    "    return d"
   ]
  },
  {
   "cell_type": "code",
   "execution_count": null,
   "metadata": {},
   "outputs": [],
   "source": [
    "def check(A):\n",
    "    '''\n",
    "    check whether A contains repeated elements. It returns a list of pairs (cf,cg) of \n",
    "    configurations such that cf belongs to the equivalence class of cg\n",
    "    '''\n",
    "    AA = list(A)\n",
    "    B = list(it.combinations(AA,2))\n",
    "    C =  it.starmap(check_identity,B)\n",
    "    return list(it.compress(B,C)) "
   ]
  },
  {
   "cell_type": "code",
   "execution_count": null,
   "metadata": {},
   "outputs": [],
   "source": [
    "def simplify(A):\n",
    "    dups = check(A)\n",
    "    return A - {dup[0] for dup in dups}"
   ]
  },
  {
   "cell_type": "code",
   "execution_count": null,
   "metadata": {},
   "outputs": [],
   "source": [
    "def check_target(cf):\n",
    "    \"It returns True if configuration cf belong to the equivalent class of target \"\n",
    "    d = False \n",
    "    if cf in class_target: d = True\n",
    "    return d"
   ]
  },
  {
   "cell_type": "code",
   "execution_count": null,
   "metadata": {},
   "outputs": [],
   "source": [
    "def noTarget(cf):\n",
    "    \"It returns False if configuration cf belong to the equivalent class of target \"\n",
    "    d = True \n",
    "    if cf in class_target: d = False\n",
    "    return d"
   ]
  },
  {
   "cell_type": "markdown",
   "metadata": {},
   "source": [
    " *target* and   *start*  seems  to be exactly   14 steps  away "
   ]
  },
  {
   "cell_type": "code",
   "execution_count": null,
   "metadata": {},
   "outputs": [],
   "source": [
    "n = 7\n",
    "Bs  = closed_ball(start, n)\n",
    "Bs_class = set(it.chain.from_iterable(equiv_class(x) for x in Bs)) \n",
    "Bt = closed_ball(target, n)\n",
    "#TT = set(tuple(it.chain.from_iterable(equiv_class(x) for x in T)))\n",
    "I = (Bs_class & Bt)\n",
    "(len(I),len(check(I)))"
   ]
  },
  {
   "cell_type": "markdown",
   "metadata": {},
   "source": [
    "## Random walk\n",
    "Reaching  the *target* starting at *start* by means of a random walk"
   ]
  },
  {
   "cell_type": "code",
   "execution_count": null,
   "metadata": {},
   "outputs": [],
   "source": [
    "def finiteDrunkard(n):\n",
    "    ''' A random walk of *n* steps starting at *start* '''\n",
    "    i = 0\n",
    "    z = start\n",
    "    while i < n:\n",
    "        z = random.choice(ssphere1(z))\n",
    "        i += 1\n",
    "        yield z "
   ]
  },
  {
   "cell_type": "code",
   "execution_count": null,
   "metadata": {},
   "outputs": [],
   "source": [
    "def drunkard():\n",
    "    ''' An iterator giving the next step of a randow walk  starting at *cf* '''\n",
    "    z = start\n",
    "    while True:\n",
    "        z = random.choice(ssphere1(z))\n",
    "        yield z  "
   ]
  },
  {
   "cell_type": "code",
   "execution_count": null,
   "metadata": {},
   "outputs": [],
   "source": [
    "fitt = finiteDrunkard(3)"
   ]
  },
  {
   "cell_type": "code",
   "execution_count": null,
   "metadata": {},
   "outputs": [],
   "source": [
    "for cf in list(fitt):\n",
    "    showConfig(cf)"
   ]
  },
  {
   "cell_type": "code",
   "execution_count": null,
   "metadata": {},
   "outputs": [],
   "source": [
    "random.seed(4)\n",
    "ll = []\n",
    "nn = 0\n",
    "while nn < 5000:\n",
    "    fitt = finiteDrunkard(1000)\n",
    "    z = list(it.filterfalse(noTarget,fitt))\n",
    "    if len(z)>0 : ll.append((nn,z))\n",
    "        #break\n",
    "    nn+= 1    \n",
    "       "
   ]
  },
  {
   "cell_type": "code",
   "execution_count": null,
   "metadata": {},
   "outputs": [],
   "source": [
    "ll[0][1][0]"
   ]
  },
  {
   "cell_type": "code",
   "execution_count": null,
   "metadata": {},
   "outputs": [],
   "source": [
    "random.seed(5)\n",
    "ll = []\n",
    "nn = 0\n",
    "itt = drunkard()\n",
    "while nn < 5000:\n",
    "    z = next(itt)\n",
    "    i += 1\n",
    "    if check_target(z): \n",
    "        ll.append(z)\n",
    "        print(\"got target\")\n",
    "        break\n",
    "    nn+= 1  \n",
    "ll"
   ]
  },
  {
   "cell_type": "code",
   "execution_count": null,
   "metadata": {},
   "outputs": [],
   "source": [
    "itt = drunkard()"
   ]
  },
  {
   "cell_type": "code",
   "execution_count": null,
   "metadata": {},
   "outputs": [],
   "source": [
    "z = next(itt)\n",
    "showConfig(z)\n",
    "    "
   ]
  },
  {
   "cell_type": "markdown",
   "metadata": {},
   "source": [
    "## Geometrical analysis"
   ]
  },
  {
   "cell_type": "code",
   "execution_count": null,
   "metadata": {},
   "outputs": [],
   "source": [
    "S1, B1 = simplify(sphere(start,1)), closed_ball(start,1)\n",
    "S2, B2 = simplify(sphere(start,2)), closed_ball(start,2)\n",
    "S3, B3 = simplify(sphere(start,3)), closed_ball(start,3)\n",
    "S4, B4 = simplify(sphere(start,4)), closed_ball(start,4)\n",
    "S5, B5 = simplify(sphere(start,5)), closed_ball(start,5)"
   ]
  },
  {
   "cell_type": "code",
   "execution_count": null,
   "metadata": {},
   "outputs": [],
   "source": [
    "S6, B6 = simplify(sphere(start,6)), closed_ball(start,6)"
   ]
  },
  {
   "cell_type": "code",
   "execution_count": null,
   "metadata": {},
   "outputs": [],
   "source": [
    "(len(S1), len(S2), len(S3), len(S4), len(S5), len(S6))"
   ]
  },
  {
   "cell_type": "code",
   "execution_count": null,
   "metadata": {},
   "outputs": [],
   "source": [
    "# the simplify function is expensive to use\n",
    "S7, B7 =  sphere(start,7), closed_ball(start,7)"
   ]
  },
  {
   "cell_type": "markdown",
   "metadata": {},
   "source": [
    "Checking that *sphere(cf,n)* is indeed subset of *closed_ball(cf,n)*"
   ]
  },
  {
   "cell_type": "code",
   "execution_count": null,
   "metadata": {},
   "outputs": [],
   "source": [
    "ll = []\n",
    "S, B = S4, B4\n",
    "for x in S:\n",
    "    z = [check_identity(x,y) for y in B].count(True)\n",
    "    ll.append(z)\n",
    "    if z==0: \n",
    "        print(\"no subset\")\n",
    "        break        \n",
    "sum(ll) - len(S)"
   ]
  },
  {
   "cell_type": "markdown",
   "metadata": {},
   "source": [
    "It seems to be that the geodesic distance between two different points in a any  sphere is greater than 1. Below we check that for *S1, ... , S5*"
   ]
  },
  {
   "cell_type": "code",
   "execution_count": null,
   "metadata": {},
   "outputs": [],
   "source": [
    "S = S7\n",
    "lst = []\n",
    "for cf in S:\n",
    "    T = sphere1(cf)\n",
    "    T_class = set(it.chain.from_iterable(equiv_class(x) for x in T))   \n",
    "    z = len(T_class&S)\n",
    "    lst.append(z)\n",
    "sum(lst)    "
   ]
  },
  {
   "cell_type": "markdown",
   "metadata": {},
   "source": [
    "## Inner and outer regions of a sphere  "
   ]
  },
  {
   "cell_type": "code",
   "execution_count": null,
   "metadata": {},
   "outputs": [],
   "source": [
    "#Sm, S  = simplify(sphere(target,4)),  simplify(sphere(target,5))\n",
    "Sm, S  = S4,  S5"
   ]
  },
  {
   "cell_type": "code",
   "execution_count": null,
   "metadata": {},
   "outputs": [],
   "source": [
    "lst = [] \n",
    "for cf in S:\n",
    "    T = sphere1(cf)\n",
    "    T_class = set(it.chain.from_iterable(equiv_class(x) for x in T))\n",
    "    z = len(T_class&Sm)\n",
    "    if z == 0: break\n",
    "        \n",
    "    lst.append(z)\n",
    "[lst.count(i) for i in range(6)]"
   ]
  },
  {
   "cell_type": "code",
   "execution_count": null,
   "metadata": {},
   "outputs": [],
   "source": [
    "sum(_) -len(S)"
   ]
  },
  {
   "cell_type": "code",
   "execution_count": null,
   "metadata": {},
   "outputs": [],
   "source": []
  },
  {
   "cell_type": "code",
   "execution_count": null,
   "metadata": {},
   "outputs": [],
   "source": [
    "def neighboring(S):\n",
    "#############  local function \n",
    "    def count(pair):\n",
    "        H, K = sphere1(pair[0]), sphere1(pair[1])\n",
    "        return [check_identity(x,y) for x in H for y in K].count(True)\n",
    "######################################\n",
    "    pairs = list(it.combinations(S,2))\n",
    "    return {pair:count(pair) for pair in pairs}"
   ]
  },
  {
   "cell_type": "code",
   "execution_count": null,
   "metadata": {},
   "outputs": [],
   "source": [
    "S = S5\n",
    "dct = neighboring(S)\n",
    "neighbors = [v for v in dct.items() if v[1]==1] "
   ]
  },
  {
   "cell_type": "code",
   "execution_count": null,
   "metadata": {},
   "outputs": [],
   "source": [
    "lst = []\n",
    "for cf in S:\n",
    "    z =  len([v[0] for v in neighbors if (v[0][0]==cf or v[0][1]==cf)] )\n",
    "    lst.append(z)\n",
    "[lst.count(n) for n in range(10)]\n",
    " "
   ]
  },
  {
   "cell_type": "code",
   "execution_count": null,
   "metadata": {},
   "outputs": [],
   "source": [
    "[lst.count(n) for n in range(21)]"
   ]
  },
  {
   "cell_type": "code",
   "execution_count": null,
   "metadata": {},
   "outputs": [],
   "source": [
    "z = random.choice(list(S))\n",
    "check_belong(z,S)"
   ]
  },
  {
   "cell_type": "markdown",
   "metadata": {},
   "source": [
    "Lexicographic distance between two points in the configuration space are easy to calculate. The trouble is that the topology induced by the lexicograpich distance is not equivalent to the one induced by the geodesic distance"
   ]
  },
  {
   "cell_type": "code",
   "execution_count": null,
   "metadata": {},
   "outputs": [],
   "source": [
    "def lexi_dist(x,y):\n",
    "    \"lexicographic distance between two points in the configuraion space\"\n",
    "    def dist_help(x,y):\n",
    "        d = 0\n",
    "        for n in range(12):\n",
    "            if x[n] != y[n]: d= d+1\n",
    "        return d\n",
    "    EC = equiv_class(y) \n",
    "    dt = [dist_help(x,z) for z in EC]\n",
    "    return min(dt)"
   ]
  }
 ],
 "metadata": {
  "kernelspec": {
   "display_name": "Python 3",
   "language": "python",
   "name": "python3"
  },
  "language_info": {
   "codemirror_mode": {
    "name": "ipython",
    "version": 3
   },
   "file_extension": ".py",
   "mimetype": "text/x-python",
   "name": "python",
   "nbconvert_exporter": "python",
   "pygments_lexer": "ipython3",
   "version": "3.8.5"
  }
 },
 "nbformat": 4,
 "nbformat_minor": 2
}
